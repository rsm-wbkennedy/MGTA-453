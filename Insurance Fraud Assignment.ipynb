{
 "cells": [
  {
   "cell_type": "markdown",
   "metadata": {},
   "source": [
    "# Insurance Fraud"
   ]
  },
  {
   "cell_type": "markdown",
   "metadata": {},
   "source": [
    "RadySafe Insurance company has recently come under increased pressure to improve its operation. Unfortunately, the investment side of its business has not been performing well, and management expects better operating income performance. One of their greatest concerns has been fraudulent claims.\n",
    "\n",
    "Even worse, the company's business analytics specialist was recently poached by one of its competitors who offered her quite a lucrative salary/benefits package. She relocated and started with them on January 1, 2009. The company realizes it cannot replace such a valuable human resource in a short amount of time, and has decided to contract you to help provide guidance on some key decisions. \n",
    "\n",
    "It is Monday, January 5<sup>th</sup>, 2009, and RadySafe Insurance is eagerly awaiting your recommendations. As part of your contract, you have been given access to a random sample of 4,415 of their claims data from last year. This can be found in the file: `insurance.parquet`, along with its data description in `insurance_description.md`."
   ]
  },
  {
   "cell_type": "markdown",
   "metadata": {},
   "source": [
    "#### **Question 1**\n",
    "***Should RadySafe Insurance raise premiums in 2009?***"
   ]
  },
  {
   "cell_type": "markdown",
   "metadata": {},
   "source": [
    "Under RadySafe Insurance policy guidelines, a policy premium increase is merited if the average claim amount has increased by at least 5\\% over the previous year. The accounting department has reported that the average claim amount in 2007 was \\$63,500.\n",
    "\n",
    "Note: The `claim_amount` variable in the dataset is reported in \\$1,000's of dollars.\n",
    "\n",
    "Make sure to clearly describe your null and alternative hypotheses. Would you order a reevaluation of the policy premiums based on the available data? Why or why not?"
   ]
  },
  {
   "cell_type": "markdown",
   "metadata": {},
   "source": [
    "#### **Question 2**\n",
    "***Should RadySafe Insurance charge different demographic groups different premiums?***"
   ]
  },
  {
   "cell_type": "markdown",
   "metadata": {},
   "source": [
    "RadySafe would like to revisit how their current premiums take into account gender and workforce status. If different demographic groups exhibit different claims behavior, perhaps they should be charged different premiums.\n",
    "\n",
    "For instance, if one gender group tends to file larger and more frequent claims than another one, perhaps they should also pay a higher policy premium to cover the additional risk.\n",
    "\n",
    "RadySafe would like you to examine the claims data provided to you to assess the following questions:"
   ]
  },
  {
   "cell_type": "markdown",
   "metadata": {},
   "source": [
    "* **Do individuals identifying as male claim higher amounts on their policy than those identifying as female?**\n",
    "\n",
    "    *Hint: Make use of the `gender` variable*"
   ]
  },
  {
   "cell_type": "markdown",
   "metadata": {},
   "source": [
    "* **Do retirees claim lower amounts on their policy?**\n",
    "\n",
    "    *Hint: Similarly, make use of the `retire` variable*"
   ]
  },
  {
   "cell_type": "markdown",
   "metadata": {},
   "source": [
    "Clearly describe your null and alternative hypotheses in each case. Provide both graphical and statistical evidence to support your recommendation."
   ]
  },
  {
   "cell_type": "markdown",
   "metadata": {},
   "source": [
    "#### **Question 3**\n",
    "***Have RadySafe Insurance's efforts to catch fraud been effective?***"
   ]
  },
  {
   "cell_type": "markdown",
   "metadata": {},
   "source": [
    "At the end of 2007, RadySafe invested heavily to implement fraud detection algorithms in their claims processes. For the year of 2007, they ultimately determined that 9.8% of all claims were fraudulent. RadySafe wants to know if their investment in fraud detection has paid off in 2008. \n",
    "\n",
    "Do you believe their investments have enabled them to identify fraud significantly better? Please explain your reasoning. Clearly describe your null and alternative hypotheses. For simplicity, you may assume that policy holders are no more, or less, likely to file fraudulent claims in 2008 and that any difference in detection rate can be linked to the new detection algorithms."
   ]
  },
  {
   "cell_type": "markdown",
   "metadata": {},
   "source": [
    "#### **Question 4**\n",
    "***Are fraudulent claim amounts higher or lower than non-fraudulent claim amounts?***"
   ]
  },
  {
   "cell_type": "markdown",
   "metadata": {},
   "source": [
    "Clearly describe your null and alternative hypotheses. Provide both graphical and statistical evidence to support your answer."
   ]
  }
 ],
 "metadata": {
  "kernelspec": {
   "display_name": "Python 3 (ipykernel)",
   "language": "python",
   "name": "python3"
  },
  "language_info": {
   "codemirror_mode": {
    "name": "ipython",
    "version": 3
   },
   "file_extension": ".py",
   "mimetype": "text/x-python",
   "name": "python",
   "nbconvert_exporter": "python",
   "pygments_lexer": "ipython3",
   "version": "3.10.11"
  },
  "vscode": {
   "interpreter": {
    "hash": "d4d1e4263499bec80672ea0156c357c1ee493ec2b1c70f0acce89fc37c4a6abe"
   }
  }
 },
 "nbformat": 4,
 "nbformat_minor": 4
}
