{
 "cells": [
  {
   "cell_type": "markdown",
   "metadata": {},
   "source": [
    "# Dataframe w/ costs\n",
    "# Simulate crashes and incidental damages\n",
    "# Dataframe for Insurance policies\n",
    "# Calculate expected cost for each policy \n"
   ]
  },
  {
   "cell_type": "code",
   "execution_count": 2,
   "metadata": {},
   "outputs": [],
   "source": [
    "# Dataframe with costs\n",
    "import pandas as pd\n",
    "import numpy as np\n",
    "\n",
    "# create a dataframe with flight number, flight per year, probability of crash\n",
    "flightdays = 342 # number of flying day/plane/year\n",
    "Aircraft = ['B757_200', 'A340_200', 'A340_300']\n",
    "Flights_per_day = [6.0, 2.25, 2.0]\n",
    "Flights_per_year = [flightdays*6.0, flightdays*2.25, flightdays*2.0]\n",
    "number_flights = [47, 15, 24]\n",
    "total_flight_per_year = [Flights_per_year[i]*number_flights[i] for i in range(len(Flights_per_year))]\n",
    "flight = pd.DataFrame({'Aircraft': Aircraft,'Flights_per_day':Flights_per_day, 'Flights_per_year': Flights_per_year})"
   ]
  },
  {
   "cell_type": "code",
   "execution_count": 27,
   "metadata": {},
   "outputs": [
    {
     "name": "stdout",
     "output_type": "stream",
     "text": [
      "124402.5\n",
      "[0 0 0 ... 0 0 0]\n",
      "[2613655.26401176 4129032.47439678 2811299.95825194 2644804.7951367\n",
      " 3348435.52546421]\n"
     ]
    }
   ],
   "source": [
    "#Simulations\n",
    "\n",
    "# 1. Crashes\n",
    "prob_crash = 1/5000000\n",
    "years = 5\n",
    "sims = 100000\n",
    "all_flights = sum(total_flight_per_year)\n",
    "print(all_flights)\n",
    "crashes = np.random.binomial(all_flights, prob_crash, sims)\n",
    "print(crashes)\n",
    "\n",
    "\n",
    "# 2. Simulate Incidental Damages\n",
    "\n",
    "idc = np.random.uniform(1000000, 5000000, years)\n",
    "print(idc)\n"
   ]
  },
  {
   "cell_type": "code",
   "execution_count": null,
   "metadata": {},
   "outputs": [],
   "source": []
  }
 ],
 "metadata": {
  "kernelspec": {
   "display_name": "base",
   "language": "python",
   "name": "python3"
  },
  "language_info": {
   "codemirror_mode": {
    "name": "ipython",
    "version": 3
   },
   "file_extension": ".py",
   "mimetype": "text/x-python",
   "name": "python",
   "nbconvert_exporter": "python",
   "pygments_lexer": "ipython3",
   "version": "3.11.5"
  }
 },
 "nbformat": 4,
 "nbformat_minor": 2
}
